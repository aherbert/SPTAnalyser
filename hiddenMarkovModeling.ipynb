{
 "cells": [
  {
   "cell_type": "markdown",
   "id": "4f833313",
   "metadata": {},
   "source": [
    "# Hidden Markov Modeling\n",
    "Estimate hidden Markov model (HMM) parameters and train a model on tracked cells. "
   ]
  },
  {
   "cell_type": "code",
   "execution_count": 1,
   "id": "5f28be16",
   "metadata": {},
   "outputs": [],
   "source": [
    "import os\n",
    "import numpy as np\n",
    "import pandas as pd\n",
    "import seaborn as sns\n",
    "import ermine as em\n",
    "import math\n",
    "from matplotlib import pyplot as plt\n",
    "from pySPT.Analysis import hiddenMarkovModeling\n",
    "from pySPT.widgets import widgetHMM, saveHMM\n",
    "import warnings\n",
    "warnings.filterwarnings(\"ignore\")\n",
    "widget_init_hmm = widgetHMM.WidgetInitHMM(dt=0.02, init_n_start=1, init_n_end=4, x_axis=300)\n",
    "# define the colors of states here:\n",
    "color_palette_hex = [\"#4169e1\", \"#228b22\", \"#ff8c00\", \"#8b008b\", \"#ff4500\", \"#fb49b0\", \"#cacaca\", \"#b24502\"]\n",
    "widget_hmm = widgetHMM.WidgetHMM(dt=0.02, n_states=2, diffs=\"0.11, 0.8\", weights=\"0.3, 0.7\", min_len=4, immob_threshold=25, epsilon=20, x_axis=300, graphviz_bin=r\"C:\\Program Files (x86)\\Graphviz2.38\\bin\")\n",
    "seed = 42\n",
    "np.random.seed(seed)"
   ]
  },
  {
   "cell_type": "markdown",
   "id": "3efe2ce2",
   "metadata": {},
   "source": [
    "## Initial parameter estimation\n",
    "Estimate the number of hidden states and yield initial parameters."
   ]
  },
  {
   "cell_type": "markdown",
   "id": "737d1f10",
   "metadata": {},
   "source": [
    "Initial parameters (weights and diffusion coefficients) for the hidden markov model are estimated by fitting the jump distance distribution of cells with a mixture model. The distribution can be fitted with different numbers of states, defined by the min and max number of states. For example, if min = 1 and max = 4, the distribution is fitted with 1, 2, 3, or 4 subpopulations and information criteria are calculated giving first hints about the number of states. The averaged weights and diffusion coefficent of all cells are calculated and can be used as initial parameters for the respective number of hidden states. <br/>\n",
    "\n",
    "*Directory:* All tracked files will be analyzed within defined input directory. <br/>\n",
    "*Camera integration time [s]:* The camera integration time of measurements in seconds. <br/>\n",
    "*Min number of states:* Minimum number of mixed models. <br/>\n",
    "*Max number of states:* Maximum number of mixed models. <br/>"
   ]
  },
  {
   "cell_type": "code",
   "execution_count": 2,
   "id": "5b5eb464",
   "metadata": {
    "scrolled": false
   },
   "outputs": [
    {
     "data": {
      "application/vnd.jupyter.widget-view+json": {
       "model_id": "80bd34c5fe8149729a8022fa68199530",
       "version_major": 2,
       "version_minor": 0
      },
      "text/plain": [
       "Text(value='', description='Directory', placeholder='directory to be searched in', style=DescriptionStyle(desc…"
      ]
     },
     "metadata": {},
     "output_type": "display_data"
    },
    {
     "data": {
      "application/vnd.jupyter.widget-view+json": {
       "model_id": "f0a530a8f87441478fc42a2786c8a633",
       "version_major": 2,
       "version_minor": 0
      },
      "text/plain": [
       "Button(description='browse', style=ButtonStyle(), tooltip='browse for directory')"
      ]
     },
     "metadata": {},
     "output_type": "display_data"
    },
    {
     "data": {
      "application/vnd.jupyter.widget-view+json": {
       "model_id": "a6ba2b182dd24237ba8e666f42b0df67",
       "version_major": 2,
       "version_minor": 0
      },
      "text/plain": [
       "Text(value='0.02', description='Camera integration time [s]', placeholder='Define time between two acquired fr…"
      ]
     },
     "metadata": {},
     "output_type": "display_data"
    },
    {
     "data": {
      "application/vnd.jupyter.widget-view+json": {
       "model_id": "90c011e8324f4988a23ad5f41159ba8b",
       "version_major": 2,
       "version_minor": 0
      },
      "text/plain": [
       "Text(value='1', description='Min number of states', placeholder='Define an integer', style=DescriptionStyle(de…"
      ]
     },
     "metadata": {},
     "output_type": "display_data"
    },
    {
     "data": {
      "application/vnd.jupyter.widget-view+json": {
       "model_id": "092d283234fa4736b5494b86422b2a48",
       "version_major": 2,
       "version_minor": 0
      },
      "text/plain": [
       "Text(value='4', description='Max number of states', placeholder='Define an integer', style=DescriptionStyle(de…"
      ]
     },
     "metadata": {},
     "output_type": "display_data"
    }
   ],
   "source": [
    "display(widget_init_hmm.dir_box, widget_init_hmm.dir_button)\n",
    "widget_init_hmm.dir_button.on_click(widget_init_hmm.open_dir)\n",
    "widget_init_hmm.dir_box.observe(widget_init_hmm.change_dir_box)\n",
    "display(widget_init_hmm.dt_box, widget_init_hmm.init_n_start, widget_init_hmm.init_n_end)"
   ]
  },
  {
   "cell_type": "code",
   "execution_count": 3,
   "id": "af9b9ac0",
   "metadata": {
    "scrolled": false
   },
   "outputs": [
    {
     "data": {
      "application/vnd.jupyter.widget-view+json": {
       "model_id": "aeaeb48f37b44ed0bec520670d69c16d",
       "version_major": 2,
       "version_minor": 0
      },
      "text/plain": [
       "Button(description='run', style=ButtonStyle(), tooltip='run the analysis')"
      ]
     },
     "metadata": {},
     "output_type": "display_data"
    }
   ],
   "source": [
    "display(widget_init_hmm.run_button)\n",
    "init_hmm = hiddenMarkovModeling.InitHMM()\n",
    "def run_init_analysis(event):\n",
    "    widget_init_hmm.create_clear_output()\n",
    "    init_hmm.clear_init()\n",
    "    display(widget_init_hmm.run_button)\n",
    "    init_hmm.dir_path = widget_init_hmm.dir_box.value\n",
    "    init_hmm.dt = float(widget_init_hmm.dt_box.value)\n",
    "    init_hmm.n_start = int(widget_init_hmm.init_n_start.value)\n",
    "    init_hmm.n_end = int(widget_init_hmm.init_n_end.value)\n",
    "    init_hmm.run_scores()\n",
    "    init_hmm.get_average_params()\n",
    "widget_init_hmm.run_button.on_click(run_init_analysis)"
   ]
  },
  {
   "cell_type": "markdown",
   "id": "1eeeabec",
   "metadata": {},
   "source": [
    "### Plot cells\n",
    "Visualize the jump distance mixture model per cell. Choose a number of states, define the maximum x axis range, and display the fit per cell."
   ]
  },
  {
   "cell_type": "code",
   "execution_count": 4,
   "id": "7fddd090",
   "metadata": {
    "scrolled": false
   },
   "outputs": [
    {
     "data": {
      "application/vnd.jupyter.widget-view+json": {
       "model_id": "e211458ff27f41cea3b33ecc99a3889c",
       "version_major": 2,
       "version_minor": 0
      },
      "text/plain": [
       "Text(value='1', description='Number of states', placeholder='e.g. with best scores', style=DescriptionStyle(de…"
      ]
     },
     "metadata": {},
     "output_type": "display_data"
    },
    {
     "data": {
      "application/vnd.jupyter.widget-view+json": {
       "model_id": "230b10492193494bb74980103859f64a",
       "version_major": 2,
       "version_minor": 0
      },
      "text/plain": [
       "Text(value='300', description='x axis range [nm]', placeholder='max range of x axis in nm', style=DescriptionS…"
      ]
     },
     "metadata": {},
     "output_type": "display_data"
    },
    {
     "data": {
      "application/vnd.jupyter.widget-view+json": {
       "model_id": "9d13e858985d44bda795ddbe098bab90",
       "version_major": 2,
       "version_minor": 0
      },
      "text/plain": [
       "Dropdown(description='Cell:', options=(), value=None)"
      ]
     },
     "metadata": {},
     "output_type": "display_data"
    }
   ],
   "source": [
    "display(widget_init_hmm.n_states_box, widget_init_hmm.x_axis_box)\n",
    "def dropdown(event):\n",
    "    widget_init_hmm.drop_down_cells.options = init_hmm.names\n",
    "widget_init_hmm.run_button.on_click(dropdown)\n",
    "display(widget_init_hmm.drop_down_cells)"
   ]
  },
  {
   "cell_type": "code",
   "execution_count": 5,
   "id": "ec0b9495",
   "metadata": {
    "scrolled": false
   },
   "outputs": [
    {
     "data": {
      "application/vnd.jupyter.widget-view+json": {
       "model_id": "cd0480ea1b7046d2bbfd0979d357d51c",
       "version_major": 2,
       "version_minor": 0
      },
      "text/plain": [
       "Button(description='plot', style=ButtonStyle(), tooltip='plot results for chosen number of states')"
      ]
     },
     "metadata": {},
     "output_type": "display_data"
    }
   ],
   "source": [
    "def plot_cell(event):\n",
    "    widget_init_hmm.create_clear_output()\n",
    "    display(widget_init_hmm.plot_button)\n",
    "    try:\n",
    "        init_hmm.plot_cell_results(int(widget_init_hmm.n_states_box.value), widget_init_hmm.drop_down_cells.value, int(widget_init_hmm.x_axis_box.value))\n",
    "    except ValueError:\n",
    "        print(\"Choose a number of state within the min/max range.\")\n",
    "display(widget_init_hmm.plot_button)\n",
    "widget_init_hmm.plot_button.on_click(plot_cell)"
   ]
  },
  {
   "cell_type": "markdown",
   "id": "5bd607d1",
   "metadata": {},
   "source": [
    "### Save results\n",
    "Define a folder name and directory to save the results and a figure format (png, svg, pdf ...). The information critera, weights and diffusion coefficients per number of states are saved. The plots per cell are saved in the SPTAnalyser_cellname/hmm subfolder."
   ]
  },
  {
   "cell_type": "code",
   "execution_count": 6,
   "id": "5f707e1e",
   "metadata": {},
   "outputs": [
    {
     "data": {
      "application/vnd.jupyter.widget-view+json": {
       "model_id": "58bd73bae40d4af0b2f03f1bcde44b6b",
       "version_major": 2,
       "version_minor": 0
      },
      "text/plain": [
       "Text(value='hidden_markov_modeling', description='Foldername', placeholder='name of folder', style=Description…"
      ]
     },
     "metadata": {},
     "output_type": "display_data"
    },
    {
     "data": {
      "application/vnd.jupyter.widget-view+json": {
       "model_id": "49e991a7b6344d5eb3af88ec020e8d58",
       "version_major": 2,
       "version_minor": 0
      },
      "text/plain": [
       "Text(value='pdf', description='Figure format', placeholder='png, pdf, svg ...', style=DescriptionStyle(descrip…"
      ]
     },
     "metadata": {},
     "output_type": "display_data"
    },
    {
     "data": {
      "application/vnd.jupyter.widget-view+json": {
       "model_id": "e976453f45e24ebd910ab0b76d519b80",
       "version_major": 2,
       "version_minor": 0
      },
      "text/plain": [
       "Text(value='', description='Directory', placeholder='Directory to save', style=DescriptionStyle(description_wi…"
      ]
     },
     "metadata": {},
     "output_type": "display_data"
    },
    {
     "data": {
      "application/vnd.jupyter.widget-view+json": {
       "model_id": "c3bc45928e944f48a5d5415ae913dbd5",
       "version_major": 2,
       "version_minor": 0
      },
      "text/plain": [
       "Button(description='browse', style=ButtonStyle(), tooltip='browse for directory')"
      ]
     },
     "metadata": {},
     "output_type": "display_data"
    }
   ],
   "source": [
    "# Save results\n",
    "display(widget_init_hmm.box_foldername, widget_init_hmm.figure_type_box, widget_init_hmm.dir_box_save, widget_init_hmm.dir_button_save)\n",
    "widget_init_hmm.dir_button_save.on_click(widget_init_hmm.open_dir_save)\n",
    "widget_init_hmm.dir_box_save.observe(widget_init_hmm.change_dir_box_save)"
   ]
  },
  {
   "cell_type": "code",
   "execution_count": 7,
   "id": "0f5cfb71",
   "metadata": {
    "scrolled": false
   },
   "outputs": [
    {
     "data": {
      "application/vnd.jupyter.widget-view+json": {
       "model_id": "eed19e3b297542edb2cda03a9f44038c",
       "version_major": 2,
       "version_minor": 0
      },
      "text/plain": [
       "Button(description='save', style=ButtonStyle(), tooltip='save the results')"
      ]
     },
     "metadata": {},
     "output_type": "display_data"
    }
   ],
   "source": [
    "# Save results\n",
    "display(widget_init_hmm.save_button)\n",
    "def save_init_analysis(event):\n",
    "    import os\n",
    "    widget_init_hmm.create_clear_output()\n",
    "    display(widget_init_hmm.save_button)\n",
    "    save_init_HMM = saveHMM.SaveInitHMM(widget_init_hmm.dir_box_save.value + \"\\\\\" + widget_init_hmm.box_foldername.value, widget_init_hmm.dir_box.value, init_hmm, widget_init_hmm.figure_type_box.value, int(widget_init_hmm.x_axis_box.value))\n",
    "    save_init_HMM.save()\n",
    "    print(\"Results are saved at\", os.path.join(widget_init_hmm.dir_box_save.value, widget_init_hmm.box_foldername.value))\n",
    "widget_init_hmm.save_button.on_click(save_init_analysis)"
   ]
  },
  {
   "cell_type": "markdown",
   "id": "966dc7d3",
   "metadata": {},
   "source": [
    "## Train hidden Markov model\n",
    "Train a hidden Markov model with fixed number of hidden states."
   ]
  },
  {
   "cell_type": "markdown",
   "id": "5fd3b74e",
   "metadata": {},
   "source": [
    "Initial parameters are required for the HMM. Make sure that the number of states match the number of given initial parameters of diffusion coefficients and weights.\n",
    "\n",
    "*Directory:* All tracked files will be analyzed within defined input directory. <br/>\n",
    "*Graphviz bin:* Define path to Graphviz installation bin file (e.g. C:\\Program Files (x86)\\Graphviz2.38\\bin). <br/>\n",
    "*Camera integration time [s]:* The camera integration time of measurements in seconds. <br/>\n",
    "*Number of states:* Number of hidden states. <br/>\n",
    "*Min trajectory length:* Trajectories with a length [frames] below this threshold are filtered out. <br/>\n",
    "*Initial diffusion coefficients:* Initial guesses about diffusion coefficients, please separate values with commas. <br/>\n",
    "*Intial weights:* Initial guesses about state population, please separate values with commas. Make sure that the weights sum up to one.  <br/>\n",
    "*Stability:* Initial guesses about the transition probabilities. The stability equals transitions within the same state (1->1, 2->2, ...) and are more stable then transitions between different states. All transition possibilities from a state sum to 1 (example of a three state model: 1->1 = 0.9, 1->2 = 0.05, 1->3 = 0.05). <br/>\n",
    "*Train x*: Check the parameters that should be trained. Otherwise the initial parameters are fixed. <br/>\n",
    "*Node size:* Choose the node size reference of the state transition diagram. The jdd fit weights are fixed diffusion coefficients from the trained HMM used in a jump distance mixture model that yields the weights. The state probabilities are directly yielded from the trained HMMs initial probabilities. The occurence are the counts in percent of labeled jumps of the observed sequences by the Viterbi algorithm.  <br/>"
   ]
  },
  {
   "cell_type": "code",
   "execution_count": 8,
   "id": "ce01a6fb",
   "metadata": {},
   "outputs": [
    {
     "data": {
      "application/vnd.jupyter.widget-view+json": {
       "model_id": "1a4ce50de7d04223a7313fa1d0530f52",
       "version_major": 2,
       "version_minor": 0
      },
      "text/plain": [
       "Text(value='', description='Directory', placeholder='directory to be searched in', style=DescriptionStyle(desc…"
      ]
     },
     "metadata": {},
     "output_type": "display_data"
    },
    {
     "data": {
      "application/vnd.jupyter.widget-view+json": {
       "model_id": "3201932bcd524853b2d4bbf6677a6039",
       "version_major": 2,
       "version_minor": 0
      },
      "text/plain": [
       "Button(description='browse', style=ButtonStyle(), tooltip='browse for directory')"
      ]
     },
     "metadata": {},
     "output_type": "display_data"
    },
    {
     "data": {
      "application/vnd.jupyter.widget-view+json": {
       "model_id": "31d159b84e844d33b81cd0fc2f06979b",
       "version_major": 2,
       "version_minor": 0
      },
      "text/plain": [
       "Text(value='C:\\\\Program Files (x86)\\\\Graphviz2.38\\\\bin', description='Graphviz bin', placeholder='define path …"
      ]
     },
     "metadata": {},
     "output_type": "display_data"
    },
    {
     "data": {
      "application/vnd.jupyter.widget-view+json": {
       "model_id": "d9c57a5f81d84b1dafa5457fd042a62d",
       "version_major": 2,
       "version_minor": 0
      },
      "text/plain": [
       "Button(description='browse', style=ButtonStyle(), tooltip='browse for directory')"
      ]
     },
     "metadata": {},
     "output_type": "display_data"
    },
    {
     "data": {
      "application/vnd.jupyter.widget-view+json": {
       "model_id": "b37d9107ed5f47e8b81ef3713ddedfda",
       "version_major": 2,
       "version_minor": 0
      },
      "text/plain": [
       "Text(value='0.02', description='Camera integration time [s]', placeholder='Define time between two acquired fr…"
      ]
     },
     "metadata": {},
     "output_type": "display_data"
    },
    {
     "data": {
      "application/vnd.jupyter.widget-view+json": {
       "model_id": "3c251133c49e43c2a6ca7240a8097e25",
       "version_major": 2,
       "version_minor": 0
      },
      "text/plain": [
       "Text(value='2', description='Number of states', placeholder='e.g. with best scores', style=DescriptionStyle(de…"
      ]
     },
     "metadata": {},
     "output_type": "display_data"
    },
    {
     "data": {
      "application/vnd.jupyter.widget-view+json": {
       "model_id": "ca8c440ba93640a3865770861691a504",
       "version_major": 2,
       "version_minor": 0
      },
      "text/plain": [
       "Text(value='4', description='Min trajectory length', placeholder='trajectories < min length will be filtered o…"
      ]
     },
     "metadata": {},
     "output_type": "display_data"
    },
    {
     "data": {
      "application/vnd.jupyter.widget-view+json": {
       "model_id": "3bb77f4a01d64ad59533e946db75dd64",
       "version_major": 2,
       "version_minor": 0
      },
      "text/plain": [
       "Text(value='0.11, 0.8', description='Initial diffusion coefficients [µm²/s]', placeholder='Insert values comma…"
      ]
     },
     "metadata": {},
     "output_type": "display_data"
    },
    {
     "data": {
      "application/vnd.jupyter.widget-view+json": {
       "model_id": "d1c769d123f54bb7a43ddec58bf492c1",
       "version_major": 2,
       "version_minor": 0
      },
      "text/plain": [
       "Text(value='0.3, 0.7', description='Initial weights', placeholder='Insert values comma separated', style=Descr…"
      ]
     },
     "metadata": {},
     "output_type": "display_data"
    },
    {
     "data": {
      "application/vnd.jupyter.widget-view+json": {
       "model_id": "0bf636ac74884dae83aaf1c02e8c93d8",
       "version_major": 2,
       "version_minor": 0
      },
      "text/plain": [
       "Text(value='0.9', description='Stability', placeholder='Probability of staying in the state per timestep', sty…"
      ]
     },
     "metadata": {},
     "output_type": "display_data"
    },
    {
     "data": {
      "application/vnd.jupyter.widget-view+json": {
       "model_id": "0c2be953ab8c48febabaa800fe2dd729",
       "version_major": 2,
       "version_minor": 0
      },
      "text/plain": [
       "Checkbox(value=True, description='Train weights', indent=False)"
      ]
     },
     "metadata": {},
     "output_type": "display_data"
    },
    {
     "data": {
      "application/vnd.jupyter.widget-view+json": {
       "model_id": "0e7e3e18b7cf40349cf793eccae53cbf",
       "version_major": 2,
       "version_minor": 0
      },
      "text/plain": [
       "Checkbox(value=True, description='Train diffusion coefficients', indent=False)"
      ]
     },
     "metadata": {},
     "output_type": "display_data"
    },
    {
     "data": {
      "application/vnd.jupyter.widget-view+json": {
       "model_id": "3739e9768f6b4457a97e7f74280b989e",
       "version_major": 2,
       "version_minor": 0
      },
      "text/plain": [
       "Checkbox(value=True, description='Train transition probabilities', indent=False)"
      ]
     },
     "metadata": {},
     "output_type": "display_data"
    },
    {
     "data": {
      "application/vnd.jupyter.widget-view+json": {
       "model_id": "eb432bd9d8b84807a93784c7d34df751",
       "version_major": 2,
       "version_minor": 0
      },
      "text/plain": [
       "RadioButtons(description='Node size', layout=Layout(width='max-content'), options=('jdd fit weights', 'occurre…"
      ]
     },
     "metadata": {},
     "output_type": "display_data"
    }
   ],
   "source": [
    "display(widget_hmm.dir_box, widget_hmm.dir_button)\n",
    "widget_hmm.dir_button.on_click(widget_hmm.open_dir)\n",
    "widget_hmm.dir_box.observe(widget_hmm.change_dir_box)\n",
    "display(widget_hmm.dir_graphviz_box, widget_hmm.dir_graphviz_button)\n",
    "widget_hmm.dir_graphviz_button.on_click(widget_hmm.open_graphviz_dir)\n",
    "widget_hmm.dir_graphviz_box.observe(widget_hmm.change_dir_graphviz_box)\n",
    "display(widget_hmm.dt_box, widget_hmm.n_states_box, widget_hmm.min_len_box, widget_hmm.D_box, widget_hmm.w_box, widget_hmm.stability_box, widget_hmm.train_ws_checkbox, widget_hmm.train_ds_checkbox, widget_hmm.train_tps_checkbox, widget_hmm.choose_weights_button)"
   ]
  },
  {
   "cell_type": "code",
   "execution_count": 9,
   "id": "0e0df553",
   "metadata": {
    "scrolled": false
   },
   "outputs": [
    {
     "data": {
      "application/vnd.jupyter.widget-view+json": {
       "model_id": "4e7ae96e78324bd7b3c643da237e4c84",
       "version_major": 2,
       "version_minor": 0
      },
      "text/plain": [
       "Button(description='run', style=ButtonStyle(), tooltip='run the analysis')"
      ]
     },
     "metadata": {},
     "output_type": "display_data"
    }
   ],
   "source": [
    "display(widget_hmm.run_button)\n",
    "hmm = hiddenMarkovModeling.HMM()\n",
    "def run_analysis(event):\n",
    "    widget_hmm.create_clear_output()\n",
    "    hmm.clear_init()\n",
    "    display(widget_hmm.run_button)\n",
    "    os.environ[\"PATH\"] += os.pathsep + widget_hmm.dir_graphviz_box.value\n",
    "    hmm.dir_path = widget_hmm.dir_box.value\n",
    "    hmm.dt = float(widget_hmm.dt_box.value)\n",
    "    hmm.n_states = int(widget_hmm.n_states_box.value)\n",
    "    hmm.min_len = int(widget_hmm.min_len_box.value)\n",
    "    hmm.color_palette = color_palette_hex\n",
    "    x = np.asarray([float(i) for i in widget_hmm.D_box.value.split(\",\")])\n",
    "    y = [[] for _ in range(int(widget_hmm.n_states_box.value))]\n",
    "    for i in range(len(y)):\n",
    "        y[i].append(x[i])\n",
    "    hmm.init_Ds = np.asarray([np.asarray(i) for i in y])\n",
    "    print(\"The diffusion coefficents are initialized:\", hmm.init_Ds, sep=\"\\n\")\n",
    "    hmm.init_Ds = np.multiply(hmm.init_Ds, 1000000)\n",
    "    hmm.init_ws = np.asarray([float(i) for i in widget_hmm.w_box.value.split(\",\")])\n",
    "    if np.sum(hmm.init_ws) != 1:\n",
    "        hmm.init_ws[-1] = 1-np.sum(hmm.init_ws[:-1])\n",
    "        print(\"The weights are corrected to sum up to 1:\", hmm.init_ws, sep=\"\\n\")\n",
    "    else:\n",
    "        print(\"The weights are initialized:\", hmm.init_ws, sep=\"\\n\")\n",
    "    hmm.init_tps = em.init_transition_matrix(n_components=int(widget_hmm.n_states_box.value), stability=float(widget_hmm.stability_box.value))\n",
    "    # want to have a non symmetric transition matrix? Just change the values by indexing, e.g. hmm.init_tps[0][0] = 0.85,\n",
    "    # make sure that rows sum up to one:\n",
    "    # hmm.init_tps[0][0] = 0.85\n",
    "    # hmm.init_tps[0][1] = 0.15\n",
    "    print(\"The transition probability matrix is initialized:\", hmm.init_tps, sep=\"\\n\")\n",
    "    hmm.run([widget_hmm.train_ws_checkbox.value, widget_hmm.train_tps_checkbox.value, widget_hmm.train_ds_checkbox.value], widget_hmm.choose_weights_button.value, widget_hmm.dir_box.value)\n",
    "widget_hmm.run_button.on_click(run_analysis)"
   ]
  },
  {
   "cell_type": "markdown",
   "id": "48ce905f",
   "metadata": {},
   "source": [
    "### Check for state immobility\n",
    "For each state NeNA is calculated and compared to the immobility threshold (derived from localization uncertainty during measurement). If NeNA < threshold, the state can be called immobile."
   ]
  },
  {
   "cell_type": "code",
   "execution_count": 10,
   "id": "09a68fb1",
   "metadata": {},
   "outputs": [
    {
     "data": {
      "application/vnd.jupyter.widget-view+json": {
       "model_id": "20260746473d474d9a12228b78069194",
       "version_major": 2,
       "version_minor": 0
      },
      "text/plain": [
       "Text(value='25', description='Immobile threshold [nm]', placeholder='Insert values comma separated', style=Des…"
      ]
     },
     "metadata": {},
     "output_type": "display_data"
    },
    {
     "data": {
      "application/vnd.jupyter.widget-view+json": {
       "model_id": "e8e6cdf541e94c56a498fd6751b58248",
       "version_major": 2,
       "version_minor": 0
      },
      "text/plain": [
       "Button(description='run', style=ButtonStyle(), tooltip='check if apparent diffusion states by HMM are immobile…"
      ]
     },
     "metadata": {},
     "output_type": "display_data"
    }
   ],
   "source": [
    "def check_immob(event):\n",
    "    widget_hmm.create_clear_output()\n",
    "    display(widget_hmm.immob_threshold_box, widget_hmm.immob_check_button)\n",
    "    hmm.run_immob_check(float(widget_hmm.immob_threshold_box.value))\n",
    "display(widget_hmm.immob_threshold_box, widget_hmm.immob_check_button)\n",
    "widget_hmm.immob_check_button.on_click(check_immob)"
   ]
  },
  {
   "cell_type": "markdown",
   "id": "4fc7abc8",
   "metadata": {},
   "source": [
    "### Correct diffusion coefficients for static and dynamic errors\n",
    "The apparent diffusion coefficients from HMM can be corrected for static and dynamic errors. Please define a static error (NeNA, Mortensen ...)."
   ]
  },
  {
   "cell_type": "code",
   "execution_count": 11,
   "id": "0c40b9ec",
   "metadata": {
    "scrolled": true
   },
   "outputs": [
    {
     "data": {
      "application/vnd.jupyter.widget-view+json": {
       "model_id": "a813fbd35a944e7db4771839b99de9b1",
       "version_major": 2,
       "version_minor": 0
      },
      "text/plain": [
       "Text(value='20', description='Static error [nm]', placeholder='Insert values comma separated', style=Descripti…"
      ]
     },
     "metadata": {},
     "output_type": "display_data"
    },
    {
     "data": {
      "application/vnd.jupyter.widget-view+json": {
       "model_id": "b74dedab030b4b50b24908a11f898901",
       "version_major": 2,
       "version_minor": 0
      },
      "text/plain": [
       "Button(description='run', style=ButtonStyle(), tooltip='correct diffusion coefficients by dynamic and static e…"
      ]
     },
     "metadata": {},
     "output_type": "display_data"
    }
   ],
   "source": [
    "def d_corr(event):\n",
    "    widget_hmm.create_clear_output()\n",
    "    display(widget_hmm.epsilon_box, widget_hmm.create_d_corr_button)\n",
    "    hmm.run_correction(float(widget_hmm.epsilon_box.value))\n",
    "display(widget_hmm.epsilon_box, widget_hmm.create_d_corr_button)\n",
    "widget_hmm.create_d_corr_button.on_click(d_corr)"
   ]
  },
  {
   "cell_type": "markdown",
   "id": "3d621c7b",
   "metadata": {},
   "source": [
    "### Plot cells\n",
    "A trained jump-distance mixed model with only the weight parameters optimized and the expected diffusion coefficients fixed by the HMM. Plot the trained model with the jumpdistance distribution of the cell."
   ]
  },
  {
   "cell_type": "code",
   "execution_count": 12,
   "id": "24857081",
   "metadata": {
    "scrolled": true
   },
   "outputs": [
    {
     "data": {
      "application/vnd.jupyter.widget-view+json": {
       "model_id": "beb9fc6044bc45ec9a2a2e1f533fbf83",
       "version_major": 2,
       "version_minor": 0
      },
      "text/plain": [
       "Text(value='300', description='x axis range [nm]', placeholder='max range of x axis in nm', style=DescriptionS…"
      ]
     },
     "metadata": {},
     "output_type": "display_data"
    },
    {
     "data": {
      "application/vnd.jupyter.widget-view+json": {
       "model_id": "539b1cea23504434950dc08c944b006a",
       "version_major": 2,
       "version_minor": 0
      },
      "text/plain": [
       "Dropdown(description='Cell:', options=(), value=None)"
      ]
     },
     "metadata": {},
     "output_type": "display_data"
    }
   ],
   "source": [
    "display(widget_hmm.x_axis_box)\n",
    "def dropdown_hmm(event):\n",
    "    widget_hmm.drop_down_cells.options = hmm.names\n",
    "widget_hmm.run_button.on_click(dropdown_hmm)\n",
    "display(widget_hmm.drop_down_cells)"
   ]
  },
  {
   "cell_type": "code",
   "execution_count": 13,
   "id": "79fc3c6f",
   "metadata": {},
   "outputs": [
    {
     "data": {
      "application/vnd.jupyter.widget-view+json": {
       "model_id": "6bbd38b82c9f46e396b29499ca7886c2",
       "version_major": 2,
       "version_minor": 0
      },
      "text/plain": [
       "Button(description='plot', style=ButtonStyle(), tooltip='plot results for chosen number of states')"
      ]
     },
     "metadata": {},
     "output_type": "display_data"
    }
   ],
   "source": [
    "def plot_hmm_cell(event):\n",
    "    widget_hmm.create_clear_output()\n",
    "    display(widget_hmm.plot_button)\n",
    "    hmm.plot_cell_fit(widget_hmm.drop_down_cells.value, int(widget_hmm.x_axis_box.value))\n",
    "display(widget_hmm.plot_button)\n",
    "widget_hmm.plot_button.on_click(plot_hmm_cell)"
   ]
  },
  {
   "cell_type": "markdown",
   "id": "c85c2834",
   "metadata": {},
   "source": [
    "### Save results\n",
    "Define a folder name and directory to save the results and a figure format (png, svg, pdf ...). The information critera, plots, and HMM parameters are saved in the defined folder. The plots per cell and the state labels per jump distance are saved in the SPTAnalyser_cellname/hmm subfolder."
   ]
  },
  {
   "cell_type": "code",
   "execution_count": 14,
   "id": "43d51c59",
   "metadata": {},
   "outputs": [
    {
     "data": {
      "application/vnd.jupyter.widget-view+json": {
       "model_id": "ba9e7a575d124efe8223156787209602",
       "version_major": 2,
       "version_minor": 0
      },
      "text/plain": [
       "Text(value='hidden_markov_modeling', description='Foldername', placeholder='name of folder', style=Description…"
      ]
     },
     "metadata": {},
     "output_type": "display_data"
    },
    {
     "data": {
      "application/vnd.jupyter.widget-view+json": {
       "model_id": "8a375c94cea74ba1b9c096f5d29e2d97",
       "version_major": 2,
       "version_minor": 0
      },
      "text/plain": [
       "Text(value='pdf', description='Figure format', placeholder='png, pdf, svg ...', style=DescriptionStyle(descrip…"
      ]
     },
     "metadata": {},
     "output_type": "display_data"
    },
    {
     "data": {
      "application/vnd.jupyter.widget-view+json": {
       "model_id": "32b74512ce76444bad7b5ce50a16cf07",
       "version_major": 2,
       "version_minor": 0
      },
      "text/plain": [
       "Text(value='', description='Directory', placeholder='Directory to save', style=DescriptionStyle(description_wi…"
      ]
     },
     "metadata": {},
     "output_type": "display_data"
    },
    {
     "data": {
      "application/vnd.jupyter.widget-view+json": {
       "model_id": "3a88f18eff434225970dc31ebda5d9d0",
       "version_major": 2,
       "version_minor": 0
      },
      "text/plain": [
       "Button(description='browse', style=ButtonStyle(), tooltip='browse for directory')"
      ]
     },
     "metadata": {},
     "output_type": "display_data"
    }
   ],
   "source": [
    "# Save results\n",
    "display(widget_hmm.box_foldername, widget_hmm.figure_type_box, widget_hmm.dir_box_save, widget_hmm.dir_button_save)\n",
    "widget_hmm.dir_button_save.on_click(widget_hmm.open_dir_save)\n",
    "widget_hmm.dir_box_save.observe(widget_hmm.change_dir_box_save)"
   ]
  },
  {
   "cell_type": "code",
   "execution_count": 15,
   "id": "e130bc91",
   "metadata": {
    "scrolled": true
   },
   "outputs": [
    {
     "data": {
      "application/vnd.jupyter.widget-view+json": {
       "model_id": "441e84a0c8264b88b2e5cd88713f4877",
       "version_major": 2,
       "version_minor": 0
      },
      "text/plain": [
       "Button(description='save', style=ButtonStyle(), tooltip='save the results')"
      ]
     },
     "metadata": {},
     "output_type": "display_data"
    }
   ],
   "source": [
    "# Save results\n",
    "display(widget_hmm.save_button)\n",
    "def save_init_analysis(event):\n",
    "    import os\n",
    "    widget_hmm.create_clear_output()\n",
    "    display(widget_hmm.save_button)\n",
    "    save_hmm = saveHMM.SaveHMM(os.path.join(widget_hmm.dir_box_save.value, widget_hmm.box_foldername.value), widget_hmm.dir_box.value, hmm, widget_hmm.figure_type_box.value, int(widget_hmm.x_axis_box.value))\n",
    "    save_hmm.save(widget_hmm.choose_weights_button.value)\n",
    "    print(\"Results are saved at\", os.path.join(widget_hmm.dir_box_save.value, widget_hmm.box_foldername.value))\n",
    "widget_hmm.save_button.on_click(save_init_analysis)"
   ]
  },
  {
   "cell_type": "markdown",
   "id": "f3747001",
   "metadata": {},
   "source": []
  }
 ],
 "metadata": {
  "hide_input": true,
  "kernelspec": {
   "display_name": "Python 3 (ipykernel)",
   "language": "python",
   "name": "python3"
  },
  "language_info": {
   "codemirror_mode": {
    "name": "ipython",
    "version": 3
   },
   "file_extension": ".py",
   "mimetype": "text/x-python",
   "name": "python",
   "nbconvert_exporter": "python",
   "pygments_lexer": "ipython3",
   "version": "3.7.11"
  }
 },
 "nbformat": 4,
 "nbformat_minor": 5
}
