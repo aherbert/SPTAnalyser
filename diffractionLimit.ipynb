{
 "cells": [
  {
   "cell_type": "markdown",
   "metadata": {},
   "source": [
    "# Determination of the diffraction limit\n",
    "Nearest neighbor based analysis. Nearest neighbor analysis per frame of all localization files in a directory. The minimal nearest neighbor per file is extracted in nm. Multiple files should be analyzed to find the minimal distance. <br/>\n",
    "\n",
    "In swift, the 'diffraction_limit' parameter specifies the minimal distance at which particles can still be told apart during localization, in nm. This value depends on many different factors, such as the localization algorithm used or the velocity of the particles. This value is mostly relevant if a lot of merging and splitting is expected. Higher values will result in more merge and splitting, whereas lower values will suppress it."
   ]
  },
  {
   "cell_type": "markdown",
   "metadata": {},
   "source": [
    "## Choose a localization software"
   ]
  },
  {
   "cell_type": "code",
   "execution_count": 1,
   "metadata": {},
   "outputs": [
    {
     "data": {
      "application/vnd.jupyter.widget-view+json": {
       "model_id": "b9113006318a478bb0376f31b4147214",
       "version_major": 2,
       "version_minor": 0
      },
      "text/plain": [
       "RadioButtons(options=('ThunderSTORM', 'rapidSTORM'), value='ThunderSTORM')"
      ]
     },
     "metadata": {},
     "output_type": "display_data"
    }
   ],
   "source": [
    "from pySPT.widgets import widgetDiffLimit\n",
    "from pySPT.widgets import widgetColumnSort\n",
    "from pySPT.preAnalysis import diffLimit\n",
    "widget_diff_limit = widgetDiffLimit.WidgetDiffLimit(158, 256)  # adjust the default parameters\n",
    "display(widget_diff_limit.software_button)"
   ]
  },
  {
   "cell_type": "markdown",
   "metadata": {},
   "source": [
    "## Load\n",
    "Define directory of localization files. All localization files are loaded (csv for ThunderSTORM, txt for rapidSTORM). Tracked files (containing \"tracked\" in file name) are ignored."
   ]
  },
  {
   "cell_type": "code",
   "execution_count": 2,
   "metadata": {
    "scrolled": true
   },
   "outputs": [
    {
     "data": {
      "application/vnd.jupyter.widget-view+json": {
       "model_id": "0ef305e746904b80b9e392bc0d7a5640",
       "version_major": 2,
       "version_minor": 0
      },
      "text/plain": [
       "Text(value='', description='Directory', placeholder='directory to be searched in', style=DescriptionStyle(desc…"
      ]
     },
     "metadata": {},
     "output_type": "display_data"
    },
    {
     "data": {
      "application/vnd.jupyter.widget-view+json": {
       "model_id": "a43be00547ee4003a054925af672c7b8",
       "version_major": 2,
       "version_minor": 0
      },
      "text/plain": [
       "Button(description='browse', style=ButtonStyle(), tooltip='browse for directory')"
      ]
     },
     "metadata": {},
     "output_type": "display_data"
    }
   ],
   "source": [
    "display(widget_diff_limit.dir_box, widget_diff_limit.dir_button)\n",
    "widget_diff_limit.dir_button.on_click(widget_diff_limit.open_dir)\n",
    "widget_diff_limit.dir_box.observe(widget_diff_limit.change_dir_box)"
   ]
  },
  {
   "cell_type": "markdown",
   "metadata": {},
   "source": [
    "## Parameter"
   ]
  },
  {
   "cell_type": "markdown",
   "metadata": {},
   "source": [
    "Define the pixel size in nm and number of pixels in a row on the camera chip."
   ]
  },
  {
   "cell_type": "code",
   "execution_count": 3,
   "metadata": {},
   "outputs": [
    {
     "data": {
      "application/vnd.jupyter.widget-view+json": {
       "model_id": "492a7de553f44cfb81baf6e9a232572e",
       "version_major": 2,
       "version_minor": 0
      },
      "text/plain": [
       "Text(value='158', description='Pixel size [nm]', placeholder='pixel size in nm', style=DescriptionStyle(descri…"
      ]
     },
     "metadata": {},
     "output_type": "display_data"
    },
    {
     "data": {
      "application/vnd.jupyter.widget-view+json": {
       "model_id": "e7c74742f0de4b958113fefa7faac887",
       "version_major": 2,
       "version_minor": 0
      },
      "text/plain": [
       "Text(value='256', description='Number of pixels per row', placeholder='nmber of pixels per row', style=Descrip…"
      ]
     },
     "metadata": {},
     "output_type": "display_data"
    }
   ],
   "source": [
    "display(widget_diff_limit.px_size_box, widget_diff_limit.n_px_box)"
   ]
  },
  {
   "cell_type": "markdown",
   "metadata": {},
   "source": [
    "## Run"
   ]
  },
  {
   "cell_type": "code",
   "execution_count": 4,
   "metadata": {
    "scrolled": true
   },
   "outputs": [
    {
     "data": {
      "application/vnd.jupyter.widget-view+json": {
       "model_id": "9a39af3905a14c41b749c5fa9f1815ed",
       "version_major": 2,
       "version_minor": 0
      },
      "text/plain": [
       "Button(description='run', style=ButtonStyle(), tooltip='run the analysis')"
      ]
     },
     "metadata": {},
     "output_type": "display_data"
    }
   ],
   "source": [
    "diff_limit = diffLimit.DiffLimit()\n",
    "display(widget_diff_limit.run_button)\n",
    "def run_analysis(event):\n",
    "    widget_diff_limit.create_clear_output()\n",
    "    display(widget_diff_limit.run_button)\n",
    "    diff_limit.clear_object()\n",
    "    diff_limit.px_size, diff_limit.n_px, diff_limit.max_search_area = int(widget_diff_limit.px_size_box.value), int(widget_diff_limit.n_px_box.value), 100\n",
    "    if not widget_diff_limit.dir_box.value:\n",
    "        print(\"Define a directory for the localization files.\")   \n",
    "    else:\n",
    "        diff_limit.run_diff_limit(widget_diff_limit.dir_name, widget_diff_limit.determine_suffix())\n",
    "widget_diff_limit.run_button.on_click(run_analysis)"
   ]
  },
  {
   "cell_type": "markdown",
   "metadata": {},
   "source": [
    "## Save\n",
    "Define a directory and foldername. The nearest neighbors and the minimal nearest neighbor per localization file are saved as csv. Optionally the plot is saved."
   ]
  },
  {
   "cell_type": "code",
   "execution_count": 5,
   "metadata": {},
   "outputs": [
    {
     "data": {
      "application/vnd.jupyter.widget-view+json": {
       "model_id": "c5d39c9ae50446b4b82b905ccb5f3c39",
       "version_major": 2,
       "version_minor": 0
      },
      "text/plain": [
       "Text(value='diff_limit_nn', description='Foldername', placeholder='name of folder', style=DescriptionStyle(des…"
      ]
     },
     "metadata": {},
     "output_type": "display_data"
    },
    {
     "data": {
      "application/vnd.jupyter.widget-view+json": {
       "model_id": "6b306e12296941a48f5ce755bb101fef",
       "version_major": 2,
       "version_minor": 0
      },
      "text/plain": [
       "Text(value='', description='Directory', placeholder='Directory to save', style=DescriptionStyle(description_wi…"
      ]
     },
     "metadata": {},
     "output_type": "display_data"
    },
    {
     "data": {
      "application/vnd.jupyter.widget-view+json": {
       "model_id": "b9a96d9f1744498aac83839c3d4dd22b",
       "version_major": 2,
       "version_minor": 0
      },
      "text/plain": [
       "Button(description='browse', style=ButtonStyle(), tooltip='browse for directory')"
      ]
     },
     "metadata": {},
     "output_type": "display_data"
    }
   ],
   "source": [
    "display(widget_diff_limit.box_foldername, widget_diff_limit.dir_box_save, widget_diff_limit.dir_button_save)\n",
    "widget_diff_limit.dir_button_save.on_click(widget_diff_limit.open_dir_save)\n",
    "widget_diff_limit.dir_box_save.observe(widget_diff_limit.change_dir_box_save)"
   ]
  },
  {
   "cell_type": "code",
   "execution_count": 6,
   "metadata": {},
   "outputs": [
    {
     "data": {
      "application/vnd.jupyter.widget-view+json": {
       "model_id": "d157de538ccc4c4b8d5cd45b2dcad43d",
       "version_major": 2,
       "version_minor": 0
      },
      "text/plain": [
       "Checkbox(value=True, description='Save plot')"
      ]
     },
     "metadata": {},
     "output_type": "display_data"
    },
    {
     "data": {
      "application/vnd.jupyter.widget-view+json": {
       "model_id": "74e23402636943009779880817bbbaef",
       "version_major": 2,
       "version_minor": 0
      },
      "text/plain": [
       "Button(description='save', style=ButtonStyle(), tooltip='save the results')"
      ]
     },
     "metadata": {},
     "output_type": "display_data"
    }
   ],
   "source": [
    "display(widget_diff_limit.save_fig_checkbox, widget_diff_limit.save_button)\n",
    "def save_analysis(event):\n",
    "    import os\n",
    "    widget_diff_limit.create_clear_output()\n",
    "    display(widget_diff_limit.save_fig_checkbox, widget_diff_limit.save_button)\n",
    "    diff_limit.save(widget_diff_limit.dir_box_save.value, widget_diff_limit.box_foldername.value, diff_limit.file_names, widget_diff_limit.save_fig_checkbox.value)\n",
    "    print(\"Results are saved at\", os.path.join(widget_diff_limit.dir_box_save.value, widget_diff_limit.box_foldername.value))\n",
    "widget_diff_limit.save_button.on_click(save_analysis)"
   ]
  }
 ],
 "metadata": {
  "hide_input": false,
  "kernelspec": {
   "display_name": "Python 3 (ipykernel)",
   "language": "python",
   "name": "python3"
  },
  "language_info": {
   "codemirror_mode": {
    "name": "ipython",
    "version": 3
   },
   "file_extension": ".py",
   "mimetype": "text/x-python",
   "name": "python",
   "nbconvert_exporter": "python",
   "pygments_lexer": "ipython3",
   "version": "3.7.11"
  }
 },
 "nbformat": 4,
 "nbformat_minor": 2
}
