{
 "cells": [
  {
   "cell_type": "markdown",
   "metadata": {
    "hideCode": false,
    "hidePrompt": false
   },
   "source": [
    "# trackStatistics\n",
    "Filter dataset, background correction, trackStatistics uses trackAnalyis files as input. <br/>\n",
    "\n",
    "This notebook as to be reloaded before analysing a new group of data!"
   ]
  },
  {
   "cell_type": "markdown",
   "metadata": {
    "hideCode": false,
    "hidePrompt": false
   },
   "source": [
    "## Load cell.h5 files"
   ]
  },
  {
   "cell_type": "markdown",
   "metadata": {
    "hideCode": false,
    "hidePrompt": false
   },
   "source": [
    "Choose/insert a directory for the cell files to be searched in (e.g. F:\\data_folder). All *.h5 files in the directory and subdirectories will be loaded for the analysis."
   ]
  },
  {
   "cell_type": "code",
   "execution_count": 1,
   "metadata": {
    "hideCode": false,
    "hidePrompt": false
   },
   "outputs": [
    {
     "data": {
      "application/vnd.jupyter.widget-view+json": {
       "model_id": "7b1dc741f391422ebfe19f9dff33b854",
       "version_major": 2,
       "version_minor": 0
      },
      "text/plain": [
       "Text(value='', description='Directory', placeholder='directory to be searched in', style=DescriptionStyle(desc…"
      ]
     },
     "metadata": {},
     "output_type": "display_data"
    },
    {
     "data": {
      "application/vnd.jupyter.widget-view+json": {
       "model_id": "f3eda972679b4d3692a1311687cbab80",
       "version_major": 2,
       "version_minor": 0
      },
      "text/plain": [
       "Button(description='browse', style=ButtonStyle(), tooltip='browse for directory')"
      ]
     },
     "metadata": {},
     "output_type": "display_data"
    }
   ],
   "source": [
    "from pySPT.widgets.widgetNotebooks import init_filter_notebook\n",
    "from pySPT.widgets.widgetNotebooks import init_track_stats_widget_arrangement\n",
    "from pySPT.widgets.widgetNotebooks import init_save_track_stats\n",
    "from pySPT.widgets.widgetNotebooks import init_save_filtered_analysis\n",
    "from pySPT.widgets.widgetNotebooks import init_save_filtered_trc\n",
    "from pySPT.widgets import widgetLoadHdf5\n",
    "from pySPT.widgets import loadHdf5\n",
    "from pySPT.widgets import saveStatistics\n",
    "from pySPT.widgets import saveFiltered\n",
    "from pySPT.Analysis import cell\n",
    "from pySPT.Analysis import trajectory\n",
    "from pySPT.Analysis import coverSlip\n",
    "from pySPT.Analysis import trajectoryStatistics\n",
    "from tqdm import tqdm_notebook as tqdm\n",
    "import os\n",
    "import warnings\n",
    "warnings.filterwarnings(\"ignore\")\n",
    "widget_load_hdf5 = widgetLoadHdf5.WidgetLoadHdf5(bin_size=\"0.1\", x_range=\"2\", y_range=\"0.5\")  # adjust the default parameters\n",
    "load_hdf5 = loadHdf5.LoadHdf5()\n",
    "cover_slip = coverSlip.CoverSlip()\n",
    "track_stats = trajectoryStatistics.TrajectoryStatistics()\n",
    "display(widget_load_hdf5.dir_box, widget_load_hdf5.dir_button)\n",
    "widget_load_hdf5.dir_button.on_click(widget_load_hdf5.open_dir)\n",
    "widget_load_hdf5.dir_box.observe(widget_load_hdf5.change_dir_box)"
   ]
  },
  {
   "cell_type": "code",
   "execution_count": 2,
   "metadata": {
    "hideCode": false,
    "hidePrompt": false,
    "scrolled": false
   },
   "outputs": [
    {
     "data": {
      "application/vnd.jupyter.widget-view+json": {
       "model_id": "760e06dd7e394905b7de6db07ab660f2",
       "version_major": 2,
       "version_minor": 0
      },
      "text/plain": [
       "Button(description='initialize', style=ButtonStyle(), tooltip='initialize objects')"
      ]
     },
     "metadata": {},
     "output_type": "display_data"
    }
   ],
   "source": [
    "def initialize(event):\n",
    "    init_filter_notebook(cover_slip, widget_load_hdf5, load_hdf5, is_cell=True)\n",
    "    track_stats.cells = cover_slip.cells\n",
    "    track_stats.cell_trajectories = cover_slip.cell_trajectories\n",
    "    track_stats.cell_sizes = [cell.size for cell in cover_slip.cells]\n",
    "    track_stats.create_filtered_framework()\n",
    "display(widget_load_hdf5.init_cells_button)\n",
    "widget_load_hdf5.init_cells_button.on_click(initialize)"
   ]
  },
  {
   "cell_type": "markdown",
   "metadata": {
    "hideCode": false,
    "hidePrompt": false
   },
   "source": [
    "## Load background.h5 files"
   ]
  },
  {
   "cell_type": "markdown",
   "metadata": {
    "hideCode": false,
    "hidePrompt": false
   },
   "source": [
    "Choose/insert a directory for the background files to be searched in (e.g. F:\\CS2\\background). All *.h5 files in the directory will be loaded for the analysis. Background correction is recommended but optional."
   ]
  },
  {
   "cell_type": "code",
   "execution_count": 3,
   "metadata": {
    "hideCode": false,
    "hidePrompt": false
   },
   "outputs": [
    {
     "data": {
      "application/vnd.jupyter.widget-view+json": {
       "model_id": "7686e4c7ae2d434ea0efb514b92eb4e7",
       "version_major": 2,
       "version_minor": 0
      },
      "text/plain": [
       "Text(value='', description='Directory', placeholder='directory to be searched in', style=DescriptionStyle(desc…"
      ]
     },
     "metadata": {},
     "output_type": "display_data"
    },
    {
     "data": {
      "application/vnd.jupyter.widget-view+json": {
       "model_id": "5bd0261cd68a4d3c9a2d69d7b4040506",
       "version_major": 2,
       "version_minor": 0
      },
      "text/plain": [
       "Button(description='browse', style=ButtonStyle(), tooltip='browse for directory')"
      ]
     },
     "metadata": {},
     "output_type": "display_data"
    }
   ],
   "source": [
    "display(widget_load_hdf5.dir_box_bg, widget_load_hdf5.dir_button_bg)\n",
    "widget_load_hdf5.dir_box_bg.observe(widget_load_hdf5.change_dir_box_bg)\n",
    "widget_load_hdf5.dir_button_bg.on_click(widget_load_hdf5.open_dir_bg)"
   ]
  },
  {
   "cell_type": "code",
   "execution_count": 4,
   "metadata": {
    "hideCode": false,
    "hidePrompt": false
   },
   "outputs": [
    {
     "data": {
      "application/vnd.jupyter.widget-view+json": {
       "model_id": "7b22bad0d54f4a649472eab53909092e",
       "version_major": 2,
       "version_minor": 0
      },
      "text/plain": [
       "Button(description='initialize', style=ButtonStyle(), tooltip='initialize objects')"
      ]
     },
     "metadata": {},
     "output_type": "display_data"
    }
   ],
   "source": [
    "def initialize(event):\n",
    "    init_filter_notebook(cover_slip, widget_load_hdf5, load_hdf5, is_cell=False)\n",
    "    track_stats.backgrounds = cover_slip.backgrounds\n",
    "    track_stats.background_trajectories = cover_slip.background_trajectories\n",
    "    track_stats.bg_sizes = [background.size for background in cover_slip.backgrounds]\n",
    "display(widget_load_hdf5.init_background_button)\n",
    "widget_load_hdf5.init_background_button.on_click(initialize)"
   ]
  },
  {
   "cell_type": "markdown",
   "metadata": {
    "hideCode": false,
    "hidePrompt": false
   },
   "source": [
    "## Filter for parameters & display results"
   ]
  },
  {
   "cell_type": "markdown",
   "metadata": {
    "hideCode": false,
    "hidePrompt": false
   },
   "source": [
    "Filter the dataset by min/max allowed values and diffusion states (checked boxes = included). Multiple filtering of a dataset is possible without restarting the notebook. <br/>\n",
    "\n",
    "The results are visualized as global diffusion histogram, MSD-plot and distributions with average cell values. <br/>\n",
    "*Diffusion histogram:* The normalized frequency (per area) in % is plotted against the diffusion coefficients (log bins). Diffusion coefficients <= 0 are neglected, because the logarithm is not defined in this interval. Choose a *bin size*.<br/>\n",
    "*MSD-plot*: The average MSD-curves are plotted per diffusion type. Choose a *x range* in seconds and a *y range* for the plot to display. None displays the entire value range.<br/>\n",
    "*Cell distributions:* The average is build per cell and the distributions displayed as violin plots."
   ]
  },
  {
   "cell_type": "code",
   "execution_count": 5,
   "metadata": {
    "hideCode": false,
    "hidePrompt": false,
    "scrolled": false
   },
   "outputs": [
    {
     "name": "stdout",
     "output_type": "stream",
     "text": [
      "Filter options\n"
     ]
    },
    {
     "data": {
      "application/vnd.jupyter.widget-view+json": {
       "model_id": "0f271d9933774778ae2bf8225d5cf07e",
       "version_major": 2,
       "version_minor": 0
      },
      "text/plain": [
       "Text(value='', description='Trajectory', placeholder='min length', style=DescriptionStyle(description_width='i…"
      ]
     },
     "metadata": {},
     "output_type": "display_data"
    },
    {
     "data": {
      "application/vnd.jupyter.widget-view+json": {
       "model_id": "cef6af2122994e83b8c44a1e1b40c616",
       "version_major": 2,
       "version_minor": 0
      },
      "text/plain": [
       "Text(value='', description='Trajectory', placeholder='max length', style=DescriptionStyle(description_width='i…"
      ]
     },
     "metadata": {},
     "output_type": "display_data"
    },
    {
     "data": {
      "application/vnd.jupyter.widget-view+json": {
       "model_id": "3768bcc786424b1ebe6999661cdd2cfc",
       "version_major": 2,
       "version_minor": 0
      },
      "text/plain": [
       "Text(value='', description='Diffusion coefficient', placeholder='min value', style=DescriptionStyle(descriptio…"
      ]
     },
     "metadata": {},
     "output_type": "display_data"
    },
    {
     "data": {
      "application/vnd.jupyter.widget-view+json": {
       "model_id": "f03943150f66424c8b7b7c3ebf6ce53c",
       "version_major": 2,
       "version_minor": 0
      },
      "text/plain": [
       "Text(value='', description='Diffusion coefficient', placeholder='max value', style=DescriptionStyle(descriptio…"
      ]
     },
     "metadata": {},
     "output_type": "display_data"
    },
    {
     "data": {
      "application/vnd.jupyter.widget-view+json": {
       "model_id": "42d0cf127f9d46a5bab8d4eae72903fb",
       "version_major": 2,
       "version_minor": 0
      },
      "text/plain": [
       "Checkbox(value=True, description='Immobile')"
      ]
     },
     "metadata": {},
     "output_type": "display_data"
    },
    {
     "data": {
      "application/vnd.jupyter.widget-view+json": {
       "model_id": "d9d824f9d16b4c40a6ee53d8b4ce3cd6",
       "version_major": 2,
       "version_minor": 0
      },
      "text/plain": [
       "Checkbox(value=True, description='Confined')"
      ]
     },
     "metadata": {},
     "output_type": "display_data"
    },
    {
     "data": {
      "application/vnd.jupyter.widget-view+json": {
       "model_id": "8f3d5b586f1949dcad9aa6c587e4122a",
       "version_major": 2,
       "version_minor": 0
      },
      "text/plain": [
       "Checkbox(value=True, description='Free')"
      ]
     },
     "metadata": {},
     "output_type": "display_data"
    },
    {
     "data": {
      "application/vnd.jupyter.widget-view+json": {
       "model_id": "f0a7e6b3542b4ec3aefce1217ce9d618",
       "version_major": 2,
       "version_minor": 0
      },
      "text/plain": [
       "Checkbox(value=True, description='Type determination not successful')"
      ]
     },
     "metadata": {},
     "output_type": "display_data"
    },
    {
     "name": "stdout",
     "output_type": "stream",
     "text": [
      "Display options\n"
     ]
    },
    {
     "data": {
      "application/vnd.jupyter.widget-view+json": {
       "model_id": "e76fcaa010cc4518ba9ebddcc06029fc",
       "version_major": 2,
       "version_minor": 0
      },
      "text/plain": [
       "Text(value='0.1', description='bin size', placeholder='size for log10(D) histogram', style=DescriptionStyle(de…"
      ]
     },
     "metadata": {},
     "output_type": "display_data"
    },
    {
     "data": {
      "application/vnd.jupyter.widget-view+json": {
       "model_id": "380b11096e214df29ce3d22c534e72a5",
       "version_major": 2,
       "version_minor": 0
      },
      "text/plain": [
       "Text(value='2', description='x range', placeholder='x range in seconds', style=DescriptionStyle(description_wi…"
      ]
     },
     "metadata": {},
     "output_type": "display_data"
    },
    {
     "data": {
      "application/vnd.jupyter.widget-view+json": {
       "model_id": "99a503a8985e4f0c96ec155d2d3703a4",
       "version_major": 2,
       "version_minor": 0
      },
      "text/plain": [
       "Text(value='0.5', description='y range', placeholder='y limit of MSD plot', style=DescriptionStyle(description…"
      ]
     },
     "metadata": {},
     "output_type": "display_data"
    },
    {
     "data": {
      "application/vnd.jupyter.widget-view+json": {
       "model_id": "8e557ee6777b4b37b66cbdf53cb8b46c",
       "version_major": 2,
       "version_minor": 0
      },
      "text/plain": [
       "Button(description='filter & plot', style=ButtonStyle(), tooltip='apply filter and display global information'…"
      ]
     },
     "metadata": {},
     "output_type": "display_data"
    }
   ],
   "source": [
    "def filter(event):\n",
    "    widget_load_hdf5.create_clear_output()\n",
    "    print(\"Filter options\")\n",
    "    display(widget_load_hdf5.min_length_box, widget_load_hdf5.max_length_box, widget_load_hdf5.min_D_box, widget_load_hdf5.max_D_box, widget_load_hdf5.immob_type_check_box, widget_load_hdf5.confined_type_check_box, widget_load_hdf5.free_type_check_box, widget_load_hdf5.analyse_not_successful_check_box)\n",
    "    print(\"Display options\")\n",
    "    display(widget_load_hdf5.bin_size_box, widget_load_hdf5.MSD_delta_t_n, widget_load_hdf5.MSD_y_lim, widget_load_hdf5.filter_button)\n",
    "    track_stats.run_statistics(widget_load_hdf5.min_length_box.value, widget_load_hdf5.max_length_box.value, widget_load_hdf5.min_D_box.value, widget_load_hdf5.max_D_box.value, widget_load_hdf5.immob_type_check_box.value,  widget_load_hdf5.confined_type_check_box.value, widget_load_hdf5.free_type_check_box.value, widget_load_hdf5.analyse_not_successful_check_box.value)\n",
    "    track_stats.run_diffusion_histogram(widget_load_hdf5.bin_size_box.value, widget_load_hdf5.MSD_delta_t_n.value, widget_load_hdf5.MSD_y_lim.value, 0)\n",
    "\n",
    "print(\"Filter options\")\n",
    "display(widget_load_hdf5.min_length_box, widget_load_hdf5.max_length_box, widget_load_hdf5.min_D_box, widget_load_hdf5.max_D_box, widget_load_hdf5.immob_type_check_box, widget_load_hdf5.confined_type_check_box, widget_load_hdf5.free_type_check_box, widget_load_hdf5.analyse_not_successful_check_box)\n",
    "print(\"Display options\")\n",
    "display(widget_load_hdf5.bin_size_box, widget_load_hdf5.MSD_delta_t_n, widget_load_hdf5.MSD_y_lim, widget_load_hdf5.filter_button)\n",
    "widget_load_hdf5.filter_button.on_click(filter)"
   ]
  },
  {
   "cell_type": "markdown",
   "metadata": {
    "hideCode": false,
    "hidePrompt": false
   },
   "source": [
    "## Calculate dynamic localization error "
   ]
  },
  {
   "cell_type": "markdown",
   "metadata": {
    "hideCode": false,
    "hidePrompt": false
   },
   "source": [
    "For each cell, a dynamic localization error based on the filtered trajectories is calculated. This error can be used for the 'Minimal detectable D' parameter in the trackAnalysis notebook."
   ]
  },
  {
   "cell_type": "code",
   "execution_count": 6,
   "metadata": {
    "hideCode": false,
    "hidePrompt": false
   },
   "outputs": [
    {
     "data": {
      "application/vnd.jupyter.widget-view+json": {
       "model_id": "0fc0705f5a7c4f74ad12dd20be8713a1",
       "version_major": 2,
       "version_minor": 0
      },
      "text/plain": [
       "Button(description='calc', style=ButtonStyle(), tooltip='dynamic localization error')"
      ]
     },
     "metadata": {},
     "output_type": "display_data"
    }
   ],
   "source": [
    "def calc(event):\n",
    "    widget_load_hdf5.create_clear_output()\n",
    "    display(widget_load_hdf5.calc_sigma_dyn_button)\n",
    "    for cell_idx in range(len(track_stats.cell_trajectories_filtered)):\n",
    "        print(\"{}: {} \\u03BCm\".format(track_stats.cells[cell_idx].name, track_stats.sigma_dyns[cell_idx]))\n",
    "display(widget_load_hdf5.calc_sigma_dyn_button)\n",
    "widget_load_hdf5.calc_sigma_dyn_button.on_click(calc)"
   ]
  },
  {
   "cell_type": "markdown",
   "metadata": {
    "hideCode": false,
    "hidePrompt": false
   },
   "source": [
    "## Choose trajectory to plot"
   ]
  },
  {
   "cell_type": "code",
   "execution_count": 7,
   "metadata": {
    "hideCode": false,
    "hidePrompt": false
   },
   "outputs": [
    {
     "data": {
      "application/vnd.jupyter.widget-view+json": {
       "model_id": "dbd7100a9e334d258564a5f67c33fd3e",
       "version_major": 2,
       "version_minor": 0
      },
      "text/plain": [
       "Dropdown(description='Cell:', options=(), value=None)"
      ]
     },
     "metadata": {},
     "output_type": "display_data"
    }
   ],
   "source": [
    "def dropdown(event):\n",
    "    widget_load_hdf5.cell_options = widget_load_hdf5.get_cell_names(cover_slip.cells, track_stats.cell_trajectories_filtered)\n",
    "widget_load_hdf5.filter_button.on_click(dropdown)\n",
    "display(widget_load_hdf5.drop_down_cells)"
   ]
  },
  {
   "cell_type": "code",
   "execution_count": 8,
   "metadata": {
    "hideCode": false,
    "hidePrompt": false
   },
   "outputs": [
    {
     "data": {
      "application/vnd.jupyter.widget-view+json": {
       "model_id": "0425ba3e33804e3289b33ff68d7d19a0",
       "version_major": 2,
       "version_minor": 0
      },
      "text/plain": [
       "Dropdown(description='Trajectory:', options=(), value=None)"
      ]
     },
     "metadata": {},
     "output_type": "display_data"
    }
   ],
   "source": [
    "def dropdown(event):      \n",
    "    for cell in cover_slip.cells:\n",
    "        if cell.name == widget_load_hdf5.drop_down_cells.value:\n",
    "            target_cell = cover_slip.cells.index(cell)\n",
    "            widget_load_hdf5.trajectory_options = track_stats.cell_trajectories_filtered_index[target_cell]\n",
    "            widget_load_hdf5.drop_down_trajectories.options = widget_load_hdf5.trajectory_options\n",
    "widget_load_hdf5.drop_down_cells.observe(dropdown)\n",
    "widget_load_hdf5.filter_button.on_click(dropdown)\n",
    "display(widget_load_hdf5.drop_down_trajectories)"
   ]
  },
  {
   "cell_type": "code",
   "execution_count": 9,
   "metadata": {
    "hideCode": false,
    "hidePrompt": false
   },
   "outputs": [
    {
     "data": {
      "application/vnd.jupyter.widget-view+json": {
       "model_id": "c3d61ab50a9542a78d8023b0e70dc134",
       "version_major": 2,
       "version_minor": 0
      },
      "text/plain": [
       "Button(description='plot', style=ButtonStyle(), tooltip='plot chosen trajectory')"
      ]
     },
     "metadata": {},
     "output_type": "display_data"
    }
   ],
   "source": [
    "def plot_trajectory(event):\n",
    "    widget_load_hdf5.create_clear_output()\n",
    "    display(widget_load_hdf5.plot_button)\n",
    "    cover_slip.plot_trajectory(widget_load_hdf5.drop_down_cells.value, widget_load_hdf5.drop_down_trajectories.value)\n",
    "display(widget_load_hdf5.plot_button)\n",
    "widget_load_hdf5.plot_button.on_click(plot_trajectory)"
   ]
  },
  {
   "cell_type": "markdown",
   "metadata": {
    "hideCode": false,
    "hidePrompt": false
   },
   "source": [
    "## Save Analysis"
   ]
  },
  {
   "cell_type": "markdown",
   "metadata": {
    "hideCode": false,
    "hidePrompt": false
   },
   "source": [
    "Choose a directory, folder name and a file name for the statistics h5 file. If you want to save the filtered dataset, check the box. The filtered dataset will be saved in the same folder as the statistics h5 file.<br/>\n",
    "\n",
    "Please make sure to visualize the plots before saving."
   ]
  },
  {
   "cell_type": "code",
   "execution_count": 10,
   "metadata": {
    "hideCode": false,
    "hidePrompt": false
   },
   "outputs": [
    {
     "data": {
      "application/vnd.jupyter.widget-view+json": {
       "model_id": "b492b0e942da4652bb25bfa66ec3d7cf",
       "version_major": 2,
       "version_minor": 0
      },
      "text/plain": [
       "Button(description='browse', style=ButtonStyle(), tooltip='browse for directory')"
      ]
     },
     "metadata": {},
     "output_type": "display_data"
    },
    {
     "data": {
      "application/vnd.jupyter.widget-view+json": {
       "model_id": "ebd2a99df06e4591a8ae6ebdd889bbab",
       "version_major": 2,
       "version_minor": 0
      },
      "text/plain": [
       "Text(value='', description='directory', placeholder='directory for filtered data', style=DescriptionStyle(desc…"
      ]
     },
     "metadata": {},
     "output_type": "display_data"
    },
    {
     "data": {
      "application/vnd.jupyter.widget-view+json": {
       "model_id": "e6313f8c35fd4cb59ad58ce1692ad397",
       "version_major": 2,
       "version_minor": 0
      },
      "text/plain": [
       "Text(value='211014_filtered', description='folder name', placeholder='name of folder', style=DescriptionStyle(…"
      ]
     },
     "metadata": {},
     "output_type": "display_data"
    },
    {
     "data": {
      "application/vnd.jupyter.widget-view+json": {
       "model_id": "b18ce10780c441db9b03a13a97a40d09",
       "version_major": 2,
       "version_minor": 0
      },
      "text/plain": [
       "Text(value='statistics', description='file name', placeholder='name for statistics .h5 file', style=Descriptio…"
      ]
     },
     "metadata": {},
     "output_type": "display_data"
    },
    {
     "data": {
      "application/vnd.jupyter.widget-view+json": {
       "model_id": "ab4c7877b1474286a9899b12ae141161",
       "version_major": 2,
       "version_minor": 0
      },
      "text/plain": [
       "Checkbox(value=True, description='Save filtered dataset')"
      ]
     },
     "metadata": {},
     "output_type": "display_data"
    },
    {
     "data": {
      "application/vnd.jupyter.widget-view+json": {
       "model_id": "7010730e873144b99171916302ba282f",
       "version_major": 2,
       "version_minor": 0
      },
      "text/plain": [
       "Checkbox(value=True, description='Save global plots')"
      ]
     },
     "metadata": {},
     "output_type": "display_data"
    }
   ],
   "source": [
    "display(widget_load_hdf5.save_dir_button, widget_load_hdf5.save_dir_box, widget_load_hdf5.save_folder_name_box, widget_load_hdf5.save_name_box, widget_load_hdf5.filtered_dataset_checkbox, widget_load_hdf5.Dplot_checkbox)\n",
    "widget_load_hdf5.save_dir_button.on_click(widget_load_hdf5.save_open_dir)\n",
    "widget_load_hdf5.save_dir_box.observe(widget_load_hdf5.change_save_dir_box)"
   ]
  },
  {
   "cell_type": "code",
   "execution_count": 11,
   "metadata": {
    "hideCode": false,
    "hidePrompt": false,
    "scrolled": false
   },
   "outputs": [
    {
     "data": {
      "application/vnd.jupyter.widget-view+json": {
       "model_id": "5aa1e22bda1146dca0792ab7ab3c9e46",
       "version_major": 2,
       "version_minor": 0
      },
      "text/plain": [
       "Button(description='save', style=ButtonStyle(), tooltip='save statistics')"
      ]
     },
     "metadata": {},
     "output_type": "display_data"
    }
   ],
   "source": [
    "def save(event):\n",
    "    widget_load_hdf5.create_clear_output()\n",
    "    display(widget_load_hdf5.save_button)\n",
    "    h5_stats = saveStatistics.SaveStatistics()\n",
    "\n",
    "    names = [i.name for i in track_stats.cells]\n",
    "    if len(names) != len(set(names)):\n",
    "        print(\"Error: A target file name existed multiple times. Please make sure to name each file individually to ensure proper analysis and saving. Currently loaded file names:\", names)\n",
    "    else:\n",
    "        if os.path.exists(os.path.join(widget_load_hdf5.save_dir_box.value, widget_load_hdf5.save_folder_name_box.value)):\n",
    "            print(\"Directory already exsists. Please choose an other directory or folder name.\")\n",
    "        else:\n",
    "            os.makedirs(os.path.join(widget_load_hdf5.save_dir_box.value, widget_load_hdf5.save_folder_name_box.value))\n",
    "            if widget_load_hdf5.save_dir_box.value:\n",
    "                init_save_track_stats(h5_stats, track_stats, widget_load_hdf5.save_dir_box.value, widget_load_hdf5.save_folder_name_box.value, widget_load_hdf5.save_name_box.value)\n",
    "                if widget_load_hdf5.filtered_dataset_checkbox.value:\n",
    "                    track_stats.filter_cell_trc()\n",
    "                    for cell_index in tqdm(range(len(track_stats.cells))):\n",
    "                        if track_stats.cell_trajectories_filtered[cell_index]:\n",
    "                            init_save_filtered_analysis(cover_slip, cell_index, track_stats, widget_load_hdf5.save_dir_box.value, widget_load_hdf5.save_folder_name_box.value)\n",
    "                    print(\"The filtered dataset is saved.\")\n",
    "                if widget_load_hdf5.hmm_trc_checkbox.value:\n",
    "                    print(\"The trc files of the filtered dataset will be saved.\")\n",
    "                    track_stats.filter_cell_trc()\n",
    "                    for cell_index in tqdm(range(len(track_stats.cells))):\n",
    "                        if track_stats.cell_trajectories_filtered[cell_index]:\n",
    "                            init_save_filtered_trc(track_stats, widget_load_hdf5.save_dir_box.value, widget_load_hdf5.save_folder_name_box.value)\n",
    "                if widget_load_hdf5.Dplot_checkbox.value and track_stats.diff_fig:\n",
    "                    track_stats.save_diff_fig(widget_load_hdf5.save_dir_box.value, widget_load_hdf5.save_folder_name_box.value)\n",
    "            else:\n",
    "                print(\"Please choose a directory\")\n",
    "display(widget_load_hdf5.save_button) \n",
    "widget_load_hdf5.save_button.on_click(save)"
   ]
  }
 ],
 "metadata": {
  "hide_code_all_hidden": false,
  "hide_input": true,
  "kernelspec": {
   "display_name": "Python 3 (ipykernel)",
   "language": "python",
   "name": "python3"
  },
  "language_info": {
   "codemirror_mode": {
    "name": "ipython",
    "version": 3
   },
   "file_extension": ".py",
   "mimetype": "text/x-python",
   "name": "python",
   "nbconvert_exporter": "python",
   "pygments_lexer": "ipython3",
   "version": "3.7.11"
  }
 },
 "nbformat": 4,
 "nbformat_minor": 2
}
