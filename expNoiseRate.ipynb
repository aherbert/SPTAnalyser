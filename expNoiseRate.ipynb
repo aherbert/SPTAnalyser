{
 "cells": [
  {
   "cell_type": "markdown",
   "metadata": {
    "hideCode": false,
    "hidePrompt": false
   },
   "source": [
    "# Determination of the expected noise rate\n",
    "Determine the percentage of false positives among all localizations in %. The number of localizations per px² and frame is determined and averaged for the background measurements. The number of localizations per px² and frame is determined for the cell measurements. The expected noise rate is calculated by dividing the background average density through the individual cell density multiplyied by 100. <br/>\n",
    "\n",
    "In swift, the 'exp_noise_rate' is used in combination with the intensity of a localization to determine its individual\n",
    "likelihood to be noise. False positive points should not be connected into trajectories."
   ]
  },
  {
   "cell_type": "markdown",
   "metadata": {
    "hideCode": false,
    "hidePrompt": false
   },
   "source": [
    "## Choose a localization software"
   ]
  },
  {
   "cell_type": "code",
   "execution_count": 1,
   "metadata": {
    "hideCode": false,
    "hidePrompt": false
   },
   "outputs": [
    {
     "data": {
      "application/vnd.jupyter.widget-view+json": {
       "model_id": "c4aa8468faaf41b9956b4cb3760d4d7e",
       "version_major": 2,
       "version_minor": 0
      },
      "text/plain": [
       "RadioButtons(options=('ThunderSTORM', 'rapidSTORM'), value='ThunderSTORM')"
      ]
     },
     "metadata": {},
     "output_type": "display_data"
    }
   ],
   "source": [
    "from pySPT.widgets import widgetExpNoiseRate\n",
    "from pySPT.widgets import widgetDirectoryStructure\n",
    "from pySPT.widgets import widgetColumnSort\n",
    "from pySPT.preAnalysis import expNoiseRate\n",
    "widget_exp_noise_rate = widgetExpNoiseRate.WidgetExpNoiseRate(area_camera=\"65536\")  # adjust the default parameters\n",
    "display(widget_exp_noise_rate.software_button)"
   ]
  },
  {
   "cell_type": "markdown",
   "metadata": {
    "hideCode": false,
    "hidePrompt": false
   },
   "source": [
    "## Load files\n",
    "### Define a cell directory\n",
    "Define a directory of localized cell measurements (Example path: F:\\data_folder). All files with fitting ending (.txt or .csv and no \"tracked\" in file name) will be loaded."
   ]
  },
  {
   "cell_type": "code",
   "execution_count": 2,
   "metadata": {
    "hideCode": false,
    "hidePrompt": false
   },
   "outputs": [
    {
     "data": {
      "application/vnd.jupyter.widget-view+json": {
       "model_id": "b636b1437c63475eb40ee5b91a3c5659",
       "version_major": 2,
       "version_minor": 0
      },
      "text/plain": [
       "Text(value='', description='Directory', placeholder='directory to be searched in', style=DescriptionStyle(desc…"
      ]
     },
     "metadata": {},
     "output_type": "display_data"
    },
    {
     "data": {
      "application/vnd.jupyter.widget-view+json": {
       "model_id": "9c7666f400cc4b82a3900d2b4569c789",
       "version_major": 2,
       "version_minor": 0
      },
      "text/plain": [
       "Button(description='browse', style=ButtonStyle(), tooltip='browse for directory')"
      ]
     },
     "metadata": {},
     "output_type": "display_data"
    }
   ],
   "source": [
    "widget_dir_structure = widgetDirectoryStructure.WidgetDirStructure()\n",
    "display(widget_exp_noise_rate.dir_box, widget_exp_noise_rate.dir_button)\n",
    "widget_exp_noise_rate.dir_button.on_click(widget_exp_noise_rate.open_dir)\n",
    "widget_exp_noise_rate.dir_box.observe(widget_exp_noise_rate.change_dir_box)"
   ]
  },
  {
   "cell_type": "markdown",
   "metadata": {
    "hideCode": false,
    "hidePrompt": false
   },
   "source": [
    "### Define a background directory\n",
    "Define a directory of localized background measurements. All files with fitting ending (.txt or .csv and no \"tracked\" in file name) will be loaded."
   ]
  },
  {
   "cell_type": "code",
   "execution_count": 3,
   "metadata": {
    "hideCode": false,
    "hidePrompt": false,
    "scrolled": true
   },
   "outputs": [
    {
     "data": {
      "application/vnd.jupyter.widget-view+json": {
       "model_id": "24571955b22743d98be6664a580c88e6",
       "version_major": 2,
       "version_minor": 0
      },
      "text/plain": [
       "Text(value='', description='Directory', placeholder='directory to be searched in', style=DescriptionStyle(desc…"
      ]
     },
     "metadata": {},
     "output_type": "display_data"
    },
    {
     "data": {
      "application/vnd.jupyter.widget-view+json": {
       "model_id": "57160adca5f44c4db7779a662b1a1972",
       "version_major": 2,
       "version_minor": 0
      },
      "text/plain": [
       "Button(description='browse', style=ButtonStyle(), tooltip='browse for directory')"
      ]
     },
     "metadata": {},
     "output_type": "display_data"
    }
   ],
   "source": [
    "display(widget_exp_noise_rate.dir_box_bg, widget_exp_noise_rate.dir_button_bg)\n",
    "widget_exp_noise_rate.dir_button_bg.on_click(widget_exp_noise_rate.open_dir_bg)\n",
    "widget_exp_noise_rate.dir_box_bg.observe(widget_exp_noise_rate.change_dir_box_bg)"
   ]
  },
  {
   "cell_type": "markdown",
   "metadata": {
    "hideCode": false,
    "hidePrompt": false
   },
   "source": [
    "## Areas\n",
    "### Cell sizes\n",
    "Choose/insert the complete directory for the roi.log file which contains the cell sizes (e.g. F:\\data_folder\\roi.log). The file name of the cell with no .* ending is compared with the roi entries with no .* ending. The last fitting entry is taken as the cell size. "
   ]
  },
  {
   "cell_type": "code",
   "execution_count": 4,
   "metadata": {
    "hideCode": false,
    "hidePrompt": false
   },
   "outputs": [
    {
     "data": {
      "application/vnd.jupyter.widget-view+json": {
       "model_id": "a2587c7ead7b410886baec2288163cdf",
       "version_major": 2,
       "version_minor": 0
      },
      "text/plain": [
       "Text(value='', description='Complete path', placeholder='insert path of roi.log', style=DescriptionStyle(descr…"
      ]
     },
     "metadata": {},
     "output_type": "display_data"
    },
    {
     "data": {
      "application/vnd.jupyter.widget-view+json": {
       "model_id": "23bf1968f6a249df9f9320fc6dd8c9b3",
       "version_major": 2,
       "version_minor": 0
      },
      "text/plain": [
       "Button(description='browse', style=ButtonStyle(), tooltip='browse for file')"
      ]
     },
     "metadata": {},
     "output_type": "display_data"
    }
   ],
   "source": [
    "display(widget_exp_noise_rate.roi_text_box, widget_exp_noise_rate.roi_button)\n",
    "widget_exp_noise_rate.roi_button.on_click(widget_exp_noise_rate.open_file)\n",
    "widget_exp_noise_rate.roi_text_box.observe(widget_exp_noise_rate.change_roi_box)"
   ]
  },
  {
   "cell_type": "markdown",
   "metadata": {
    "hideCode": false,
    "hidePrompt": false
   },
   "source": [
    "### Background sizes\n",
    "Area of detection on the camera chip in px^2 (e.g. 256 * 256 = 65536 pixel)."
   ]
  },
  {
   "cell_type": "code",
   "execution_count": 5,
   "metadata": {
    "hideCode": false,
    "hidePrompt": false,
    "scrolled": true
   },
   "outputs": [
    {
     "data": {
      "application/vnd.jupyter.widget-view+json": {
       "model_id": "fda44f6f4b2943efa97f0608c4e85354",
       "version_major": 2,
       "version_minor": 0
      },
      "text/plain": [
       "Text(value='65536', description='Area of camera in px²', placeholder='insert area', style=DescriptionStyle(des…"
      ]
     },
     "metadata": {},
     "output_type": "display_data"
    }
   ],
   "source": [
    "display(widget_exp_noise_rate.background_size_box)"
   ]
  },
  {
   "cell_type": "markdown",
   "metadata": {
    "hideCode": false,
    "hidePrompt": false
   },
   "source": [
    "## Run analysis"
   ]
  },
  {
   "cell_type": "code",
   "execution_count": 6,
   "metadata": {
    "hideCode": false,
    "hidePrompt": false,
    "scrolled": false
   },
   "outputs": [
    {
     "data": {
      "application/vnd.jupyter.widget-view+json": {
       "model_id": "978b861525b84d2ca2b18099c895c09b",
       "version_major": 2,
       "version_minor": 0
      },
      "text/plain": [
       "Button(description='run', style=ButtonStyle(), tooltip='run the analysis')"
      ]
     },
     "metadata": {},
     "output_type": "display_data"
    }
   ],
   "source": [
    "exp_noise_rate = expNoiseRate.ExpNoiseRate()\n",
    "display(widget_exp_noise_rate.run_button)\n",
    "def run_analysis(event):\n",
    "    widget_exp_noise_rate.create_clear_output()\n",
    "    display(widget_exp_noise_rate.run_button)\n",
    "    if not widget_exp_noise_rate.dir_box.value:\n",
    "        print(\"Load cell localizations.\")   \n",
    "    if not widget_exp_noise_rate.dir_box_bg.value:\n",
    "        print(\"Load background localizations.\")\n",
    "    if not widget_exp_noise_rate.roi_text_box.value:\n",
    "        print(\"Load areas.\")\n",
    "    if widget_exp_noise_rate.roi_text_box.value and widget_exp_noise_rate.dir_box_bg.value and widget_exp_noise_rate.dir_box.value:\n",
    "        exp_noise_rate.run_exp_noise_rate(widget_exp_noise_rate.dir_name, widget_exp_noise_rate.dir_name_bg, widget_exp_noise_rate.roi_path, widget_exp_noise_rate.determine_suffix(), int(widget_exp_noise_rate.background_size_box.value))\n",
    "widget_exp_noise_rate.run_button.on_click(run_analysis)"
   ]
  },
  {
   "cell_type": "markdown",
   "metadata": {
    "hideCode": false,
    "hidePrompt": false
   },
   "source": [
    "## Save analysis\n",
    "Choose a directory and folder name to save the results. The results will be saved in two .txt files, the first with the cell names localization densities and exp noise rates, the second with the background names and localization densities. Optionally the plots are saved. "
   ]
  },
  {
   "cell_type": "code",
   "execution_count": 7,
   "metadata": {
    "hideCode": false,
    "hidePrompt": false
   },
   "outputs": [
    {
     "data": {
      "application/vnd.jupyter.widget-view+json": {
       "model_id": "b619b00daca441b8a126c179b258aa87",
       "version_major": 2,
       "version_minor": 0
      },
      "text/plain": [
       "Text(value='exp_noise_rate', description='Foldername', placeholder='name of folder', style=DescriptionStyle(de…"
      ]
     },
     "metadata": {},
     "output_type": "display_data"
    },
    {
     "data": {
      "application/vnd.jupyter.widget-view+json": {
       "model_id": "cd9404c9cf124da79a5c95043140d39e",
       "version_major": 2,
       "version_minor": 0
      },
      "text/plain": [
       "Text(value='', description='Directory', placeholder='Directory to save', style=DescriptionStyle(description_wi…"
      ]
     },
     "metadata": {},
     "output_type": "display_data"
    },
    {
     "data": {
      "application/vnd.jupyter.widget-view+json": {
       "model_id": "993a2ccb24714d8dbf71b473e08855b3",
       "version_major": 2,
       "version_minor": 0
      },
      "text/plain": [
       "Button(description='browse', style=ButtonStyle(), tooltip='browse for directory')"
      ]
     },
     "metadata": {},
     "output_type": "display_data"
    }
   ],
   "source": [
    "display(widget_exp_noise_rate.box_foldername, widget_exp_noise_rate.dir_box_save, widget_exp_noise_rate.dir_button_save)\n",
    "widget_exp_noise_rate.dir_button_save.on_click(widget_exp_noise_rate.open_dir_save)\n",
    "widget_exp_noise_rate.dir_box_save.observe(widget_exp_noise_rate.change_dir_box_save)"
   ]
  },
  {
   "cell_type": "code",
   "execution_count": 8,
   "metadata": {
    "hideCode": false,
    "hidePrompt": false
   },
   "outputs": [
    {
     "data": {
      "application/vnd.jupyter.widget-view+json": {
       "model_id": "8117d3579f7545628a3fc37b4b8124f0",
       "version_major": 2,
       "version_minor": 0
      },
      "text/plain": [
       "Checkbox(value=True, description='Save plot')"
      ]
     },
     "metadata": {},
     "output_type": "display_data"
    },
    {
     "data": {
      "application/vnd.jupyter.widget-view+json": {
       "model_id": "7f38e4f74edb4fa5930b486b3824783d",
       "version_major": 2,
       "version_minor": 0
      },
      "text/plain": [
       "Button(description='save', style=ButtonStyle(), tooltip='save the results')"
      ]
     },
     "metadata": {},
     "output_type": "display_data"
    }
   ],
   "source": [
    "display(widget_exp_noise_rate.save_fig_checkbox, widget_exp_noise_rate.save_button)\n",
    "def save_analysis(event):\n",
    "    import os\n",
    "    widget_exp_noise_rate.create_clear_output()\n",
    "    display(widget_exp_noise_rate.save_fig_checkbox, widget_exp_noise_rate.save_button)\n",
    "    exp_noise_rate.save_results(widget_exp_noise_rate.dir_box_save.value, widget_exp_noise_rate.box_foldername.value, widget_exp_noise_rate.save_fig_checkbox.value)\n",
    "    print(\"Results are saved at\", os.path.join(widget_exp_noise_rate.dir_box_save.value, widget_exp_noise_rate.box_foldername.value))\n",
    "widget_exp_noise_rate.save_button.on_click(save_analysis)"
   ]
  }
 ],
 "metadata": {
  "hide_code_all_hidden": false,
  "hide_input": true,
  "kernelspec": {
   "display_name": "Python 3 (ipykernel)",
   "language": "python",
   "name": "python3"
  },
  "language_info": {
   "codemirror_mode": {
    "name": "ipython",
    "version": 3
   },
   "file_extension": ".py",
   "mimetype": "text/x-python",
   "name": "python",
   "nbconvert_exporter": "python",
   "pygments_lexer": "ipython3",
   "version": "3.7.11"
  }
 },
 "nbformat": 4,
 "nbformat_minor": 2
}
